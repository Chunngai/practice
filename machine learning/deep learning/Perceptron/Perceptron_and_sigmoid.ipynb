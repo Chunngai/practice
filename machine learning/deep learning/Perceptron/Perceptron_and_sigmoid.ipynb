{
 "cells": [
  {
   "cell_type": "code",
   "execution_count": 1,
   "metadata": {},
   "outputs": [],
   "source": [
    "import torch\n",
    "import torch.nn as nn\n",
    "import torch.optim as optim"
   ]
  },
  {
   "cell_type": "code",
   "execution_count": 2,
   "metadata": {},
   "outputs": [],
   "source": [
    "LEARNING_RATE = 0.1\n",
    "ITER_NUM = 10_000\n",
    "DISPLAY_TIMES = ITER_NUM / 5"
   ]
  },
  {
   "cell_type": "markdown",
   "metadata": {},
   "source": [
    "  "
   ]
  },
  {
   "cell_type": "markdown",
   "metadata": {},
   "source": [
    "## 1. Load Data"
   ]
  },
  {
   "cell_type": "code",
   "execution_count": 3,
   "metadata": {},
   "outputs": [],
   "source": [
    "# Data for the and operation.\n",
    "and_inputs = [\n",
    "    [0, 0],\n",
    "    [0, 1],\n",
    "    [1, 0],\n",
    "    [1, 1]\n",
    "]\n",
    "and_outputs = [\n",
    "    [0],\n",
    "    [0],\n",
    "    [0],\n",
    "    [1]\n",
    "]"
   ]
  },
  {
   "cell_type": "code",
   "execution_count": 4,
   "metadata": {},
   "outputs": [],
   "source": [
    "# Training set.\n",
    "and_train_examples = torch.tensor(and_inputs, dtype=torch.float)\n",
    "and_train_labels = torch.tensor(and_outputs, dtype=torch.float)\n",
    "\n",
    "# Test set.\n",
    "and_test_examples = torch.tensor(and_inputs, dtype=torch.float)\n",
    "and_test_labels = torch.tensor(and_outputs, dtype=torch.float)"
   ]
  },
  {
   "cell_type": "markdown",
   "metadata": {},
   "source": [
    " "
   ]
  },
  {
   "cell_type": "markdown",
   "metadata": {},
   "source": [
    "## 2. Build a Model"
   ]
  },
  {
   "cell_type": "code",
   "execution_count": 5,
   "metadata": {},
   "outputs": [],
   "source": [
    "class Net(nn.Module):\n",
    "    def __init__(self):\n",
    "        super(Net, self).__init__()\n",
    "        \n",
    "        self.linear = nn.Linear(2, 1)\n",
    "        \n",
    "    def forward(self, inputs):\n",
    "        z1 = self.linear(inputs)\n",
    "        a1 = torch.sigmoid(z1)  # (i)\n",
    "\n",
    "        return a1"
   ]
  },
  {
   "cell_type": "markdown",
   "metadata": {},
   "source": [
    "<font color=red>\n",
    "    (i) Activation func is necessary. sign() is used in the original perceptron.\n",
    "</font>"
   ]
  },
  {
   "cell_type": "code",
   "execution_count": 6,
   "metadata": {},
   "outputs": [],
   "source": [
    "net = Net()"
   ]
  },
  {
   "cell_type": "markdown",
   "metadata": {},
   "source": [
    " "
   ]
  },
  {
   "cell_type": "markdown",
   "metadata": {},
   "source": [
    "## 3. Criterion and Optimizer"
   ]
  },
  {
   "cell_type": "code",
   "execution_count": 7,
   "metadata": {},
   "outputs": [],
   "source": [
    "# Criterion.\n",
    "criterion = nn.MSELoss()"
   ]
  },
  {
   "cell_type": "code",
   "execution_count": 8,
   "metadata": {},
   "outputs": [],
   "source": [
    "# Optimizer.\n",
    "optim = optim.SGD(params=net.parameters(), lr=LEARNING_RATE)"
   ]
  },
  {
   "cell_type": "markdown",
   "metadata": {},
   "source": [
    " "
   ]
  },
  {
   "cell_type": "markdown",
   "metadata": {},
   "source": [
    "## 4. Train the Model"
   ]
  },
  {
   "cell_type": "code",
   "execution_count": 9,
   "metadata": {},
   "outputs": [
    {
     "name": "stdout",
     "output_type": "stream",
     "text": [
      "iteration:   1999, loss: 0.000017\n",
      "iteration:   3999, loss: 0.000008\n",
      "iteration:   5999, loss: 0.000005\n",
      "iteration:   7999, loss: 0.000004\n",
      "iteration:   9999, loss: 0.000003\n"
     ]
    }
   ],
   "source": [
    "running_loss = 0.0\n",
    "for i in range(ITER_NUM):\n",
    "    optim.zero_grad()\n",
    "    \n",
    "    # Forward.\n",
    "    outputs = net(and_train_examples)\n",
    "    loss = criterion(outputs, and_train_labels)\n",
    "\n",
    "    # Backward.\n",
    "    loss.backward()\n",
    "    \n",
    "    # Updates params.\n",
    "    optim.step()\n",
    "    \n",
    "    running_loss += loss\n",
    "    if i % DISPLAY_TIMES == DISPLAY_TIMES - 1:\n",
    "        print(f\"iteration: {i:>6}, loss: {loss / DISPLAY_TIMES:.6f}\")\n",
    "        \n",
    "        running_loss = 0.0"
   ]
  },
  {
   "cell_type": "markdown",
   "metadata": {},
   "source": [
    "<font color=red>\n",
    "    (i) Check grad: \n",
    "    <br/>\n",
    "    net.linear.weight.grad  # `weight` has multiple values\n",
    "    <br/>\n",
    "    net.linear.bias.grad\n",
    "</font>"
   ]
  },
  {
   "cell_type": "code",
   "execution_count": null,
   "metadata": {},
   "outputs": [],
   "source": []
  },
  {
   "cell_type": "code",
   "execution_count": 10,
   "metadata": {
    "scrolled": true
   },
   "outputs": [
    {
     "name": "stdout",
     "output_type": "stream",
     "text": [
      "theta1 = 4.63, theta2 = 4.63, bias = -7.05\n"
     ]
    }
   ],
   "source": [
    "params = list(net.parameters())\n",
    "theta_1 = params[0][0][0]\n",
    "theta_2 = params[0][0][1]\n",
    "bias = params[1][0]\n",
    "\n",
    "print(f\"theta1 = {theta_1:.2f}, theta2 = {theta_2:.2f}, bias = {bias:.2f}\")"
   ]
  },
  {
   "cell_type": "code",
   "execution_count": 26,
   "metadata": {},
   "outputs": [
    {
     "data": {
      "image/png": "[encoded data removed]",
      "text/plain": [
       "<Figure size 432x288 with 1 Axes>"
      ]
     },
     "metadata": {
      "needs_background": "light"
     },
     "output_type": "display_data"
    }
   ],
   "source": [
    "import matplotlib.pyplot as plt\n",
    "\n",
    "def y(theta_1, theta_2, bias, x1):\n",
    "    return ((-theta_1 * x1 - bias) / (theta_2))\n",
    "\n",
    "x = [i for i in range(3)]\n",
    "y = [y(theta_1, theta_2, bias, x) for x in range(3)]\n",
    "\n",
    "plt.scatter(x=[0, 0, 1], y=[0, 1, 0], s=60, marker='.', c='r')\n",
    "plt.scatter(x=[1], y=[1], s=60, marker='+', c='b')\n",
    "plt.plot(x, y)\n",
    "plt.axis([-0.05, 1.5, -0.05, 1.5])\n",
    "plt.show()"
   ]
  },
  {
   "cell_type": "markdown",
   "metadata": {},
   "source": [
    "<font color=red>\n",
    "    (i) y = wx + b in pytorch, not -b\n",
    "</font>"
   ]
  },
  {
   "cell_type": "markdown",
   "metadata": {},
   "source": [
    "## 5. Test the Model"
   ]
  },
  {
   "cell_type": "code",
   "execution_count": 12,
   "metadata": {},
   "outputs": [
    {
     "name": "stdout",
     "output_type": "stream",
     "text": [
      "tensor([[8.6947e-04],\n",
      "        [8.2119e-02],\n",
      "        [8.2119e-02],\n",
      "        [9.0194e-01]], grad_fn=<SigmoidBackward>)\n"
     ]
    }
   ],
   "source": [
    "outputs = net(and_test_examples)\n",
    "print(outputs)"
   ]
  }
 ],
 "metadata": {
  "kernelspec": {
   "display_name": "Python 3",
   "language": "python",
   "name": "python3"
  },
  "language_info": {
   "codemirror_mode": {
    "name": "ipython",
    "version": 3
   },
   "file_extension": ".py",
   "mimetype": "text/x-python",
   "name": "python",
   "nbconvert_exporter": "python",
   "pygments_lexer": "ipython3",
   "version": "3.7.5"
  }
 },
 "nbformat": 4,
 "nbformat_minor": 4
}
