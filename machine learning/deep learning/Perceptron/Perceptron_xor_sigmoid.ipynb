{
 "cells": [
  {
   "cell_type": "code",
   "execution_count": 1,
   "metadata": {},
   "outputs": [],
   "source": [
    "import torch\n",
    "import torch.nn as nn\n",
    "import torch.optim as optim"
   ]
  },
  {
   "cell_type": "code",
   "execution_count": 2,
   "metadata": {},
   "outputs": [],
   "source": [
    "LEARNING_RATE = 0.3\n",
    "ITER_NUM= 10_000\n",
    "DISPLAY_TIMES = ITER_NUM / 5"
   ]
  },
  {
   "cell_type": "markdown",
   "metadata": {},
   "source": [
    "  "
   ]
  },
  {
   "cell_type": "markdown",
   "metadata": {},
   "source": [
    "## 1. Data"
   ]
  },
  {
   "cell_type": "code",
   "execution_count": 3,
   "metadata": {},
   "outputs": [],
   "source": [
    "xor_inputs = [\n",
    "    [0, 0],\n",
    "    [0, 1],\n",
    "    [1, 0],\n",
    "    [1, 1]\n",
    "]\n",
    "xor_outputs = [\n",
    "    [0],\n",
    "    [1],\n",
    "    [1],\n",
    "    [0]\n",
    "]"
   ]
  },
  {
   "cell_type": "code",
   "execution_count": 4,
   "metadata": {},
   "outputs": [],
   "source": [
    "xor_training_examples = torch.tensor(xor_inputs, dtype=torch.float)\n",
    "xor_training_labels = torch.tensor(xor_outputs, dtype=torch.float)\n",
    "\n",
    "xor_test_examples = torch.tensor(xor_inputs, dtype=torch.float)\n",
    "xor_test_labels = torch.tensor(xor_outputs, dtype=torch.float)"
   ]
  },
  {
   "cell_type": "markdown",
   "metadata": {},
   "source": [
    " "
   ]
  },
  {
   "cell_type": "markdown",
   "metadata": {},
   "source": [
    "## 2. Build a Model"
   ]
  },
  {
   "cell_type": "code",
   "execution_count": 5,
   "metadata": {},
   "outputs": [],
   "source": [
    "class Net(nn.Module):\n",
    "    def __init__(self):\n",
    "        super(Net, self).__init__()\n",
    "        \n",
    "        self.fc1 = nn.Linear(2, 2)  # (2, 4) works well\n",
    "        self.fc2 = nn.Linear(2, 1)\n",
    "        \n",
    "    def forward(self, inputs):\n",
    "        z1 = self.fc1(inputs)\n",
    "        a1 = torch.sigmoid(z1)\n",
    "        \n",
    "        z2 = self.fc2(a1)\n",
    "        a2 = torch.sigmoid(z2)\n",
    "        \n",
    "        return a2"
   ]
  },
  {
   "cell_type": "code",
   "execution_count": 6,
   "metadata": {},
   "outputs": [],
   "source": [
    "net = Net()"
   ]
  },
  {
   "cell_type": "markdown",
   "metadata": {},
   "source": [
    " "
   ]
  },
  {
   "cell_type": "markdown",
   "metadata": {},
   "source": [
    "## 3. Criterion and Optimizer"
   ]
  },
  {
   "cell_type": "code",
   "execution_count": 7,
   "metadata": {},
   "outputs": [],
   "source": [
    "criterion = nn.MSELoss()"
   ]
  },
  {
   "cell_type": "code",
   "execution_count": 8,
   "metadata": {},
   "outputs": [],
   "source": [
    "optim = optim.SGD(net.parameters(), lr=LEARNING_RATE)"
   ]
  },
  {
   "cell_type": "markdown",
   "metadata": {},
   "source": [
    " "
   ]
  },
  {
   "cell_type": "markdown",
   "metadata": {},
   "source": [
    "## 4. Train the Model"
   ]
  },
  {
   "cell_type": "code",
   "execution_count": 9,
   "metadata": {},
   "outputs": [
    {
     "name": "stdout",
     "output_type": "stream",
     "text": [
      "iter:   1999, loss: 0.233703\n",
      "iter:   3999, loss: 0.085363\n",
      "iter:   5999, loss: 0.006980\n",
      "iter:   7999, loss: 0.002927\n",
      "iter:   9999, loss: 0.001820\n"
     ]
    }
   ],
   "source": [
    "running_loss = 0.0\n",
    "for i in range(ITER_NUM):\n",
    "    optim.zero_grad()\n",
    "    \n",
    "    # Forward.\n",
    "    outputs = net(xor_training_examples)\n",
    "    loss = criterion(outputs, xor_training_labels)\n",
    "    \n",
    "    # Backward.\n",
    "    loss.backward()\n",
    "    \n",
    "    # Updates params.\n",
    "    optim.step()\n",
    "    \n",
    "    running_loss += loss\n",
    "    if i % DISPLAY_TIMES == DISPLAY_TIMES - 1:        \n",
    "        print(f\"iter: {i:>6}, loss: {running_loss / DISPLAY_TIMES:.6f}\")\n",
    "        running_loss = 0.0"
   ]
  },
  {
   "cell_type": "markdown",
   "metadata": {},
   "source": [
    "<font color=red>\n",
    "    (i) If the nn does not work well, try changing: learning rate, iter num, unit num of layers, layer num\n",
    "    <br/>\n",
    "    activation func, model architecture, loss func, optimizer\n",
    "</font>"
   ]
  },
  {
   "cell_type": "code",
   "execution_count": null,
   "metadata": {},
   "outputs": [],
   "source": []
  },
  {
   "cell_type": "code",
   "execution_count": 10,
   "metadata": {},
   "outputs": [
    {
     "name": "stdout",
     "output_type": "stream",
     "text": [
      "Parameter containing:\n",
      "tensor([[-5.8978, -5.9275],\n",
      "        [ 4.1468,  4.1525]], requires_grad=True)\n",
      "\n",
      "Parameter containing:\n",
      "tensor([ 2.2202, -6.4569], requires_grad=True)\n",
      "\n",
      "Parameter containing:\n",
      "tensor([[-8.2638, -8.4742]], requires_grad=True)\n",
      "\n",
      "Parameter containing:\n",
      "tensor([4.1325], requires_grad=True)\n",
      "\n"
     ]
    }
   ],
   "source": [
    "for param in net.parameters():\n",
    "    print(param)\n",
    "    print()\n",
    "    \n",
    "fc1_u1_thetas = net.fc1.weight[0]\n",
    "fc1_u1_bias = net.fc1.bias[0]\n",
    "\n",
    "fc1_u2_thetas = net.fc1.weight[1]\n",
    "fc1_u2_bias = net.fc1.bias[1]\n",
    "\n",
    "fc2_thetas = net.fc2.weight\n",
    "fc2_bias = net.fc2.bias"
   ]
  },
  {
   "cell_type": "markdown",
   "metadata": {},
   "source": [
    "<font color=red>\n",
    "    (i) tensor([[-4.1835, -4.1832],  # the first unit\n",
    "    <br/>\n",
    "        [-5.5974, -5.5961]], requires_grad=True)  # the second unit\n",
    "</font>"
   ]
  },
  {
   "cell_type": "code",
   "execution_count": 11,
   "metadata": {},
   "outputs": [],
   "source": [
    "import matplotlib.pyplot as plt\n",
    "\n",
    "# For plotting lines.\n",
    "def y(theta_1, theta_2, bias, x):\n",
    "    return ((-theta_1 * x - bias) / (theta_2))\n",
    "\n",
    "# Forward prop of nn.\n",
    "def z(x1, x2, theta_1, theta_2, bias):\n",
    "    return (x1 * theta_1 + x2 * theta_2 + bias)\n",
    "\n",
    "def sign(z):\n",
    "    return 1 if z > 0 else 0"
   ]
  },
  {
   "cell_type": "code",
   "execution_count": 12,
   "metadata": {},
   "outputs": [
    {
     "data": {
      "image/png": "[encoded data removed]",
      "text/plain": [
       "<Figure size 432x288 with 1 Axes>"
      ]
     },
     "metadata": {
      "needs_background": "light"
     },
     "output_type": "display_data"
    }
   ],
   "source": [
    "x1 = [i for i in range(3)]\n",
    "y1_1 = [y(fc1_u1_thetas[0].item(), fc1_u1_thetas[1].item(), fc1_u1_bias.item(), x) for x in range(3)]\n",
    "y1_2 = [y(fc1_u2_thetas[0].item(), fc1_u2_thetas[1].item(), fc1_u2_bias.item(), x) for x in range(3)]\n",
    "\n",
    "plt.scatter(x=[0, 1], y=[0, 1], s=60, marker='+', c='b')\n",
    "plt.scatter(x=[0, 1], y=[1, 0], s=60, marker='.', c='r')\n",
    "plt.axis([-0.05, 1.2, -0.05, 1.2])\n",
    "plt.plot(x1, y1_1, c='k')\n",
    "plt.plot(x1, y1_2, c='k')\n",
    "plt.show()"
   ]
  },
  {
   "cell_type": "code",
   "execution_count": 13,
   "metadata": {},
   "outputs": [],
   "source": [
    "# Implements operations in fc1.\n",
    "z1_1 = [\n",
    "    z(0, 0, fc1_u1_thetas[0].item(), fc1_u1_thetas[1].item(), fc1_u1_bias.item()), \n",
    "    z(0, 1, fc1_u1_thetas[0].item(), fc1_u1_thetas[1].item(), fc1_u1_bias.item()),\n",
    "    z(1, 0, fc1_u1_thetas[0].item(), fc1_u1_thetas[1].item(), fc1_u1_bias.item()), \n",
    "    z(1, 1, fc1_u1_thetas[0].item(), fc1_u1_thetas[1].item(), fc1_u1_bias.item())\n",
    "]\n",
    "z1_2 = [\n",
    "    z(0, 0, fc1_u2_thetas[0].item(), fc1_u2_thetas[1].item(), fc1_u2_bias.item()), \n",
    "    z(0, 1, fc1_u2_thetas[0].item(), fc1_u2_thetas[1].item(), fc1_u2_bias.item()),\n",
    "    z(1, 0, fc1_u2_thetas[0].item(), fc1_u2_thetas[1].item(), fc1_u2_bias.item()), \n",
    "    z(1, 1, fc1_u2_thetas[0].item(), fc1_u2_thetas[1].item(), fc1_u2_bias.item())\n",
    "]\n",
    "\n",
    "a1 = [sign(z) for z in z1_1]\n",
    "a2 = [sign(z) for z in z1_2]"
   ]
  },
  {
   "cell_type": "code",
   "execution_count": 14,
   "metadata": {},
   "outputs": [
    {
     "data": {
      "image/png": "[encoded data removed]",
      "text/plain": [
       "<Figure size 432x288 with 1 Axes>"
      ]
     },
     "metadata": {
      "needs_background": "light"
     },
     "output_type": "display_data"
    }
   ],
   "source": [
    "x2 = [i for i in range(3)]\n",
    "y2 = [y(fc2_thetas[0][0].item(), fc2_thetas[0][1].item(), fc2_bias.item(), x) for x in range(3)]\n",
    "\n",
    "plt.scatter([a1[0], a1[3]], [a2[0], a2[3]], s=60, marker='+', c='b')\n",
    "plt.scatter([a1[1], a1[2]], [a2[1], a2[2]], s=60, marker='.', c='r')\n",
    "plt.axis([-0.05, 1.2, -0.05, 1.2])\n",
    "plt.plot(x2, y2, c='k')\n",
    "plt.show()"
   ]
  },
  {
   "cell_type": "markdown",
   "metadata": {},
   "source": [
    "## 5. Test the Model"
   ]
  },
  {
   "cell_type": "code",
   "execution_count": 15,
   "metadata": {
    "scrolled": true
   },
   "outputs": [
    {
     "name": "stdout",
     "output_type": "stream",
     "text": [
      "tensor([[0.0344],\n",
      "        [0.9595],\n",
      "        [0.9594],\n",
      "        [0.0398]], grad_fn=<SigmoidBackward>)\n"
     ]
    }
   ],
   "source": [
    "outputs = net(xor_training_examples)\n",
    "print(outputs)"
   ]
  }
 ],
 "metadata": {
  "kernelspec": {
   "display_name": "Python 3",
   "language": "python",
   "name": "python3"
  },
  "language_info": {
   "codemirror_mode": {
    "name": "ipython",
    "version": 3
   },
   "file_extension": ".py",
   "mimetype": "text/x-python",
   "name": "python",
   "nbconvert_exporter": "python",
   "pygments_lexer": "ipython3",
   "version": "3.7.5"
  }
 },
 "nbformat": 4,
 "nbformat_minor": 4
}
