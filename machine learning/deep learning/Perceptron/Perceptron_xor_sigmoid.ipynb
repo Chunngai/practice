{
 "cells": [
  {
   "cell_type": "code",
   "execution_count": 1,
   "metadata": {},
   "outputs": [],
   "source": [
    "import torch\n",
    "import torch.nn as nn\n",
    "import torch.optim as optim"
   ]
  },
  {
   "cell_type": "code",
   "execution_count": 2,
   "metadata": {},
   "outputs": [],
   "source": [
    "LEARNING_RATE = 0.3\n",
    "ITER_NUM= 10_000\n",
    "DISPLAY_TIMES = ITER_NUM / 5"
   ]
  },
  {
   "cell_type": "markdown",
   "metadata": {},
   "source": [
    "  "
   ]
  },
  {
   "cell_type": "markdown",
   "metadata": {},
   "source": [
    "## 1. Data"
   ]
  },
  {
   "cell_type": "code",
   "execution_count": 3,
   "metadata": {},
   "outputs": [],
   "source": [
    "xor_inputs = [\n",
    "    [0, 0],\n",
    "    [0, 1],\n",
    "    [1, 0],\n",
    "    [1, 1]\n",
    "]\n",
    "xor_outputs = [\n",
    "    [0],\n",
    "    [1],\n",
    "    [1],\n",
    "    [0]\n",
    "]"
   ]
  },
  {
   "cell_type": "code",
   "execution_count": 4,
   "metadata": {},
   "outputs": [],
   "source": [
    "xor_training_examples = torch.tensor(xor_inputs, dtype=torch.float)\n",
    "xor_training_labels = torch.tensor(xor_outputs, dtype=torch.float)\n",
    "\n",
    "xor_test_examples = torch.tensor(xor_inputs, dtype=torch.float)\n",
    "xor_test_labels = torch.tensor(xor_outputs, dtype=torch.float)"
   ]
  },
  {
   "cell_type": "markdown",
   "metadata": {},
   "source": [
    " "
   ]
  },
  {
   "cell_type": "markdown",
   "metadata": {},
   "source": [
    "## 2. Build a Model"
   ]
  },
  {
   "cell_type": "code",
   "execution_count": 5,
   "metadata": {},
   "outputs": [],
   "source": [
    "class Net(nn.Module):\n",
    "    def __init__(self):\n",
    "        super(Net, self).__init__()\n",
    "        \n",
    "        self.fc1 = nn.Linear(2, 2)  # (2, 4) works well\n",
    "        self.fc2 = nn.Linear(2, 1)\n",
    "        \n",
    "    def forward(self, inputs):\n",
    "        z1 = self.fc1(inputs)\n",
    "        a1 = torch.sigmoid(z1)\n",
    "        \n",
    "        z2 = self.fc2(a1)\n",
    "        a2 = torch.sigmoid(z2)\n",
    "        \n",
    "        return a2"
   ]
  },
  {
   "cell_type": "code",
   "execution_count": 6,
   "metadata": {},
   "outputs": [],
   "source": [
    "net = Net()"
   ]
  },
  {
   "cell_type": "markdown",
   "metadata": {},
   "source": [
    " "
   ]
  },
  {
   "cell_type": "markdown",
   "metadata": {},
   "source": [
    "## 3. Criterion and Optimizer"
   ]
  },
  {
   "cell_type": "code",
   "execution_count": 7,
   "metadata": {},
   "outputs": [],
   "source": [
    "criterion = nn.MSELoss()"
   ]
  },
  {
   "cell_type": "code",
   "execution_count": 8,
   "metadata": {},
   "outputs": [],
   "source": [
    "optim = optim.SGD(net.parameters(), lr=LEARNING_RATE)"
   ]
  },
  {
   "cell_type": "markdown",
   "metadata": {},
   "source": [
    " "
   ]
  },
  {
   "cell_type": "markdown",
   "metadata": {},
   "source": [
    "## 4. Train the Model"
   ]
  },
  {
   "cell_type": "code",
   "execution_count": 9,
   "metadata": {},
   "outputs": [
    {
     "name": "stdout",
     "output_type": "stream",
     "text": [
      "iter:   1999, loss: 0.249365\n",
      "iter:   3999, loss: 0.168169\n",
      "iter:   5999, loss: 0.010371\n",
      "iter:   7999, loss: 0.003286\n",
      "iter:   9999, loss: 0.001923\n"
     ]
    }
   ],
   "source": [
    "running_loss = 0.0\n",
    "for i in range(ITER_NUM):\n",
    "    optim.zero_grad()\n",
    "    \n",
    "    # Forward.\n",
    "    outputs = net(xor_training_examples)\n",
    "    loss = criterion(outputs, xor_training_labels)\n",
    "    \n",
    "    # Backward.\n",
    "    loss.backward()\n",
    "    \n",
    "    # Updates params.\n",
    "    optim.step()\n",
    "    \n",
    "    running_loss += loss\n",
    "    if i % DISPLAY_TIMES == DISPLAY_TIMES - 1:        \n",
    "        print(f\"iter: {i:>6}, loss: {running_loss / DISPLAY_TIMES:.6f}\")\n",
    "        running_loss = 0.0"
   ]
  },
  {
   "cell_type": "markdown",
   "metadata": {},
   "source": [
    "<font color=red>\n",
    "    (i) If the nn does not work well, try changing: learning rate, iter num, unit num of layers, layer num\n",
    "    <br/>\n",
    "    activation func, model architecture, loss func, optimizer\n",
    "</font>"
   ]
  },
  {
   "cell_type": "markdown",
   "metadata": {},
   "source": [
    "## 5. Test the Model"
   ]
  },
  {
   "cell_type": "code",
   "execution_count": 10,
   "metadata": {
    "scrolled": true
   },
   "outputs": [
    {
     "name": "stdout",
     "output_type": "stream",
     "text": [
      "tensor([[0.0399],\n",
      "        [0.9620],\n",
      "        [0.9554],\n",
      "        [0.0354]], grad_fn=<SigmoidBackward>)\n"
     ]
    }
   ],
   "source": [
    "outputs = net(xor_training_examples)\n",
    "print(outputs)"
   ]
  }
 ],
 "metadata": {
  "kernelspec": {
   "display_name": "Python 3",
   "language": "python",
   "name": "python3"
  },
  "language_info": {
   "codemirror_mode": {
    "name": "ipython",
    "version": 3
   },
   "file_extension": ".py",
   "mimetype": "text/x-python",
   "name": "python",
   "nbconvert_exporter": "python",
   "pygments_lexer": "ipython3",
   "version": "3.7.5"
  }
 },
 "nbformat": 4,
 "nbformat_minor": 4
}
