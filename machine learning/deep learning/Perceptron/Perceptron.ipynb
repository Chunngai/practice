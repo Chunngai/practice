{
 "cells": [
  {
   "cell_type": "code",
   "execution_count": 1,
   "metadata": {},
   "outputs": [],
   "source": [
    "import torch\n",
    "import torch.nn as nn\n",
    "import torch.optim as optim"
   ]
  },
  {
   "cell_type": "code",
   "execution_count": 2,
   "metadata": {},
   "outputs": [],
   "source": [
    "LEARNING_RATE = 0.01\n",
    "ITER_NUM = 10_000"
   ]
  },
  {
   "cell_type": "markdown",
   "metadata": {},
   "source": [
    "  "
   ]
  },
  {
   "cell_type": "markdown",
   "metadata": {},
   "source": [
    "## 1. Load Data"
   ]
  },
  {
   "cell_type": "code",
   "execution_count": 3,
   "metadata": {},
   "outputs": [],
   "source": [
    "# Data for the and operation.\n",
    "and_inputs = [\n",
    "    [0, 0],\n",
    "    [0, 1],\n",
    "    [1, 0],\n",
    "    [1, 1]\n",
    "]\n",
    "and_outputs = [\n",
    "    [0],\n",
    "    [0],\n",
    "    [0],\n",
    "    [1]\n",
    "]\n",
    "\n",
    "# Training set.\n",
    "and_train_examples = torch.tensor(and_inputs, dtype=torch.float)\n",
    "and_train_labels = torch.tensor(and_outputs, dtype=torch.float)\n",
    "\n",
    "# Test set.\n",
    "and_test_examples = torch.tensor(and_inputs, dtype=torch.float)\n",
    "and_test_labels = torch.tensor(and_outputs, dtype=torch.float)"
   ]
  },
  {
   "cell_type": "code",
   "execution_count": 4,
   "metadata": {},
   "outputs": [
    {
     "name": "stdout",
     "output_type": "stream",
     "text": [
      "tensor([[0., 0.],\n",
      "        [0., 1.],\n",
      "        [1., 0.],\n",
      "        [1., 1.]])\n",
      "tensor([[0.],\n",
      "        [0.],\n",
      "        [0.],\n",
      "        [1.]])\n",
      "tensor([[0., 0.],\n",
      "        [0., 1.],\n",
      "        [1., 0.],\n",
      "        [1., 1.]])\n",
      "tensor([[0.],\n",
      "        [0.],\n",
      "        [0.],\n",
      "        [1.]])\n"
     ]
    }
   ],
   "source": [
    "print(and_train_examples)\n",
    "print(and_train_labels)\n",
    "\n",
    "print(and_test_examples)\n",
    "print(and_test_labels)"
   ]
  },
  {
   "cell_type": "markdown",
   "metadata": {},
   "source": [
    " "
   ]
  },
  {
   "cell_type": "markdown",
   "metadata": {},
   "source": [
    "## 2. Build a Model"
   ]
  },
  {
   "cell_type": "code",
   "execution_count": 5,
   "metadata": {},
   "outputs": [],
   "source": [
    "class Net(nn.Module):\n",
    "    def __init__(self):\n",
    "        super(Net, self).__init__()\n",
    "        \n",
    "        self.linear = nn.Linear(2, 1)\n",
    "        \n",
    "    def forward(self, inputs):\n",
    "        z1 = self.linear(inputs)\n",
    "        a1 = torch.sigmoid(z1)\n",
    "\n",
    "        return a1"
   ]
  },
  {
   "cell_type": "code",
   "execution_count": 6,
   "metadata": {},
   "outputs": [],
   "source": [
    "net = Net()"
   ]
  },
  {
   "cell_type": "markdown",
   "metadata": {},
   "source": [
    " "
   ]
  },
  {
   "cell_type": "markdown",
   "metadata": {},
   "source": [
    "## 3. Criterion and Optimizer"
   ]
  },
  {
   "cell_type": "code",
   "execution_count": 7,
   "metadata": {},
   "outputs": [],
   "source": [
    "# Criterion.\n",
    "criterion = nn.MSELoss()"
   ]
  },
  {
   "cell_type": "code",
   "execution_count": 8,
   "metadata": {},
   "outputs": [],
   "source": [
    "# Optimizer.\n",
    "optim = optim.SGD(params=net.parameters(), lr=LEARNING_RATE)"
   ]
  },
  {
   "cell_type": "markdown",
   "metadata": {},
   "source": [
    " "
   ]
  },
  {
   "cell_type": "markdown",
   "metadata": {},
   "source": [
    "## 4. Train the Model"
   ]
  },
  {
   "cell_type": "code",
   "execution_count": 9,
   "metadata": {},
   "outputs": [
    {
     "name": "stdout",
     "output_type": "stream",
     "text": [
      "iteration:  199, loss: 0.045905\n",
      "iteration:  399, loss: 0.043811\n",
      "iteration:  599, loss: 0.041936\n",
      "iteration:  799, loss: 0.040227\n",
      "iteration:  999, loss: 0.038651\n",
      "iteration: 1199, loss: 0.037192\n",
      "iteration: 1399, loss: 0.035836\n",
      "iteration: 1599, loss: 0.034574\n",
      "iteration: 1799, loss: 0.033398\n",
      "iteration: 1999, loss: 0.032300\n",
      "iteration: 2199, loss: 0.031274\n",
      "iteration: 2399, loss: 0.030313\n",
      "iteration: 2599, loss: 0.029411\n",
      "iteration: 2799, loss: 0.028564\n",
      "iteration: 2999, loss: 0.027767\n",
      "iteration: 3199, loss: 0.027015\n",
      "iteration: 3399, loss: 0.026304\n",
      "iteration: 3599, loss: 0.025631\n",
      "iteration: 3799, loss: 0.024993\n",
      "iteration: 3999, loss: 0.024387\n",
      "iteration: 4199, loss: 0.023810\n",
      "iteration: 4399, loss: 0.023260\n",
      "iteration: 4599, loss: 0.022736\n",
      "iteration: 4799, loss: 0.022235\n",
      "iteration: 4999, loss: 0.021756\n",
      "iteration: 5199, loss: 0.021297\n",
      "iteration: 5399, loss: 0.020856\n",
      "iteration: 5599, loss: 0.020434\n",
      "iteration: 5799, loss: 0.020027\n",
      "iteration: 5999, loss: 0.019637\n",
      "iteration: 6199, loss: 0.019260\n",
      "iteration: 6399, loss: 0.018897\n",
      "iteration: 6599, loss: 0.018548\n",
      "iteration: 6799, loss: 0.018210\n",
      "iteration: 6999, loss: 0.017883\n",
      "iteration: 7199, loss: 0.017568\n",
      "iteration: 7399, loss: 0.017263\n",
      "iteration: 7599, loss: 0.016967\n",
      "iteration: 7799, loss: 0.016681\n",
      "iteration: 7999, loss: 0.016404\n",
      "iteration: 8199, loss: 0.016135\n",
      "iteration: 8399, loss: 0.015873\n",
      "iteration: 8599, loss: 0.015620\n",
      "iteration: 8799, loss: 0.015374\n",
      "iteration: 8999, loss: 0.015135\n",
      "iteration: 9199, loss: 0.014902\n",
      "iteration: 9399, loss: 0.014676\n",
      "iteration: 9599, loss: 0.014456\n",
      "iteration: 9799, loss: 0.014242\n",
      "iteration: 9999, loss: 0.014033\n"
     ]
    }
   ],
   "source": [
    "running_loss = 0.0\n",
    "training_set_size = and_train_examples.size()[0]\n",
    "for i in range(ITER_NUM):\n",
    "    optim.zero_grad()\n",
    "    \n",
    "    # Forward.\n",
    "    outputs = net(and_train_examples)\n",
    "    loss = criterion(outputs, and_train_labels)\n",
    "\n",
    "    # Backward.\n",
    "    loss.backward()\n",
    "    \n",
    "    # Updates params.\n",
    "    optim.step()\n",
    "    \n",
    "    if i % 200 == 199:\n",
    "        print(f\"iteration: {i:>4}, loss: {loss / training_set_size:.6f}\")\n",
    "        \n",
    "        running_loss = 0.0"
   ]
  },
  {
   "cell_type": "code",
   "execution_count": 10,
   "metadata": {
    "scrolled": true
   },
   "outputs": [
    {
     "name": "stdout",
     "output_type": "stream",
     "text": [
      "theta1 = 1.88, theta2 = 1.90, bias = -2.99\n"
     ]
    }
   ],
   "source": [
    "params = list(net.parameters())\n",
    "theta_1 = params[0][0][0]\n",
    "theta_2 = params[0][0][1]\n",
    "bias = params[1][0]\n",
    "\n",
    "print(f\"theta1 = {theta_1:.2f}, theta2 = {theta_2:.2f}, bias = {bias:.2f}\")"
   ]
  },
  {
   "cell_type": "markdown",
   "metadata": {},
   "source": [
    " "
   ]
  },
  {
   "cell_type": "markdown",
   "metadata": {},
   "source": [
    "## 5. Test the Model"
   ]
  },
  {
   "cell_type": "code",
   "execution_count": 11,
   "metadata": {},
   "outputs": [
    {
     "name": "stdout",
     "output_type": "stream",
     "text": [
      "tensor(0.0479, grad_fn=<MulBackward0>)\n",
      "0 && 0: 0\n",
      "tensor(0.2518, grad_fn=<MulBackward0>)\n",
      "0 && 1: 0\n",
      "tensor(0.2481, grad_fn=<MulBackward0>)\n",
      "1 && 0: 0\n",
      "tensor(0.6881, grad_fn=<MulBackward0>)\n",
      "1 && 1: 0\n"
     ]
    }
   ],
   "source": [
    "def test(inputs):\n",
    "    inputs = torch.tensor(inputs, dtype=torch.float)\n",
    "    outputs = net(inputs)\n",
    "    \n",
    "    z = theta_1 * inputs[0] + theta_2 * inputs[1] + bias\n",
    "    y_hat = 1 / (1 + torch.exp(-z))\n",
    "    \n",
    "    result = y_hat > 0.5 ? 1\n",
    "    \n",
    "    print(\"%d && %d: %d\" % (inputs[0], inputs[1], y_hat))\n",
    "    \n",
    "test([0, 0])\n",
    "test([0, 1])\n",
    "test([1, 0])\n",
    "test([1, 1])"
   ]
  },
  {
   "cell_type": "code",
   "execution_count": null,
   "metadata": {},
   "outputs": [],
   "source": []
  }
 ],
 "metadata": {
  "kernelspec": {
   "display_name": "Python 3",
   "language": "python",
   "name": "python3"
  },
  "language_info": {
   "codemirror_mode": {
    "name": "ipython",
    "version": 3
   },
   "file_extension": ".py",
   "mimetype": "text/x-python",
   "name": "python",
   "nbconvert_exporter": "python",
   "pygments_lexer": "ipython3",
   "version": "3.7.5"
  }
 },
 "nbformat": 4,
 "nbformat_minor": 4
}
